{
  "nbformat": 4,
  "nbformat_minor": 0,
  "metadata": {
    "colab": {
      "provenance": []
    },
    "kernelspec": {
      "name": "python3",
      "display_name": "Python 3"
    },
    "language_info": {
      "name": "python"
    }
  },
  "cells": [
    {
      "cell_type": "code",
      "source": [
        "import os\n",
        "import matplotlib.pyplot as plt\n",
        "import seaborn as sns"
      ],
      "metadata": {
        "id": "tkIBjg4dCrtb"
      },
      "execution_count": 59,
      "outputs": []
    },
    {
      "cell_type": "code",
      "source": [
        "import pandas as pd\n",
        "\n",
        "\n",
        "# Step 1: Load dataset from Excel file with debugging\n",
        "df = pd.read_excel(\"/content/RAW_DATA.xlsx\")\n",
        "\n",
        "# Debugging: Check if data is loaded\n",
        "print(\"Dataset loaded successfully. First 5 rows:\")\n",
        "print(df.head())\n",
        "\n",
        "# Debugging: Check column names\n",
        "print(\"Column names:\", df.columns)\n",
        "\n",
        "# Step 2: Ensure correct sheet is read (if multiple sheets exist)\n",
        "xls = pd.ExcelFile(\"/content/RAW_DATA.xlsx\")\n",
        "print(\"Available sheets:\", xls.sheet_names)\n",
        "df = pd.read_excel(\"/content/RAW_DATA.xlsx\", sheet_name=0)  # Adjust sheet_name if needed\n",
        "\n",
        "# Step 3: Convert categorical values to binary if 'Frailty' column exists\n",
        "if 'Frailty' in df.columns:\n",
        "    df['Frailty'] = df['Frailty'].map({'N': 0, 'Y': 1})\n",
        "else:\n",
        "    print(\"Error: 'Frailty' column not found!\")\n",
        "\n",
        "# Debugging: Check if data conversion worked\n",
        "if 'Frailty' in df.columns:\n",
        "    print(\"Unique values in 'Frailty' after conversion:\", df['Frailty'].unique())\n",
        "\n",
        "# Step 4: Check for hidden blank rows\n",
        "print(\"Checking first 20 rows for hidden blanks:\")\n",
        "print(df.head(20))\n",
        "\n",
        "# Step 5: Drop only FULLY empty rows\n",
        "print(\"Rows before dropna:\", len(df))\n",
        "df = df.dropna(how='all')\n",
        "print(\"Rows after dropna:\", len(df))\n",
        "\n",
        "# Step 6: Save cleaned data\n",
        "df.to_csv(\"/content/frailty_cleaned.csv\", index=False)\n",
        "print(\"Cleaned dataset saved at /content/frailty_cleaned.csv\")\n",
        "\n",
        "# Step 7: Verify the saved file\n",
        "df_cleaned = pd.read_csv(\"/content/frailty_cleaned.csv\")\n",
        "print(\"Cleaned Data Preview:\")\n",
        "print(df_cleaned.head(10))\n"
      ],
      "metadata": {
        "colab": {
          "base_uri": "https://localhost:8080/"
        },
        "id": "p8YuIwJy_rE-",
        "outputId": "40b546d6-eae8-470d-ca0b-83af7214a459"
      },
      "execution_count": 60,
      "outputs": [
        {
          "output_type": "stream",
          "name": "stdout",
          "text": [
            "Dataset loaded successfully. First 5 rows:\n",
            "   Height   Weight  Age  Gripstrength  Unnamed: 4 Frailty\n",
            "0     65.8     112   30            30         NaN       N\n",
            "1     71.5     136   19            31         NaN       N\n",
            "2     69.4     153   45            29         NaN       N\n",
            "3     68.2     142   22            28         NaN       Y\n",
            "4     67.8     144   29            24         NaN       Y\n",
            "Column names: Index(['Height ', 'Weight', 'Age', 'Gripstrength', 'Unnamed: 4', 'Frailty'], dtype='object')\n",
            "Available sheets: ['Sheet1']\n",
            "Unique values in 'Frailty' after conversion: [0 1]\n",
            "Checking first 20 rows for hidden blanks:\n",
            "   Height   Weight  Age  Gripstrength  Unnamed: 4  Frailty\n",
            "0     65.8     112   30            30         NaN        0\n",
            "1     71.5     136   19            31         NaN        0\n",
            "2     69.4     153   45            29         NaN        0\n",
            "3     68.2     142   22            28         NaN        1\n",
            "4     67.8     144   29            24         NaN        1\n",
            "5     68.7     123   50            26         NaN        0\n",
            "6     69.8     141   51            22         NaN        1\n",
            "7     70.1     136   23            20         NaN        1\n",
            "8     67.9     112   17            19         NaN        0\n",
            "9     66.8     120   39            31         NaN        0\n",
            "Rows before dropna: 10\n",
            "Rows after dropna: 10\n",
            "Cleaned dataset saved at /content/frailty_cleaned.csv\n",
            "Cleaned Data Preview:\n",
            "   Height   Weight  Age  Gripstrength  Unnamed: 4  Frailty\n",
            "0     65.8     112   30            30         NaN        0\n",
            "1     71.5     136   19            31         NaN        0\n",
            "2     69.4     153   45            29         NaN        0\n",
            "3     68.2     142   22            28         NaN        1\n",
            "4     67.8     144   29            24         NaN        1\n",
            "5     68.7     123   50            26         NaN        0\n",
            "6     69.8     141   51            22         NaN        1\n",
            "7     70.1     136   23            20         NaN        1\n",
            "8     67.9     112   17            19         NaN        0\n",
            "9     66.8     120   39            31         NaN        0\n"
          ]
        }
      ]
    },
    {
      "cell_type": "code",
      "source": [
        "from google.colab import files\n",
        "\n",
        "# Download the cleaned dataset\n",
        "files.download('/content/frailty_cleaned.csv')"
      ],
      "metadata": {
        "colab": {
          "base_uri": "https://localhost:8080/",
          "height": 17
        },
        "id": "ber4k9Nb_q16",
        "outputId": "341651cf-2fce-44fc-a470-a74a88216531"
      },
      "execution_count": 57,
      "outputs": [
        {
          "output_type": "display_data",
          "data": {
            "text/plain": [
              "<IPython.core.display.Javascript object>"
            ],
            "application/javascript": [
              "\n",
              "    async function download(id, filename, size) {\n",
              "      if (!google.colab.kernel.accessAllowed) {\n",
              "        return;\n",
              "      }\n",
              "      const div = document.createElement('div');\n",
              "      const label = document.createElement('label');\n",
              "      label.textContent = `Downloading \"${filename}\": `;\n",
              "      div.appendChild(label);\n",
              "      const progress = document.createElement('progress');\n",
              "      progress.max = size;\n",
              "      div.appendChild(progress);\n",
              "      document.body.appendChild(div);\n",
              "\n",
              "      const buffers = [];\n",
              "      let downloaded = 0;\n",
              "\n",
              "      const channel = await google.colab.kernel.comms.open(id);\n",
              "      // Send a message to notify the kernel that we're ready.\n",
              "      channel.send({})\n",
              "\n",
              "      for await (const message of channel.messages) {\n",
              "        // Send a message to notify the kernel that we're ready.\n",
              "        channel.send({})\n",
              "        if (message.buffers) {\n",
              "          for (const buffer of message.buffers) {\n",
              "            buffers.push(buffer);\n",
              "            downloaded += buffer.byteLength;\n",
              "            progress.value = downloaded;\n",
              "          }\n",
              "        }\n",
              "      }\n",
              "      const blob = new Blob(buffers, {type: 'application/binary'});\n",
              "      const a = document.createElement('a');\n",
              "      a.href = window.URL.createObjectURL(blob);\n",
              "      a.download = filename;\n",
              "      div.appendChild(a);\n",
              "      a.click();\n",
              "      div.remove();\n",
              "    }\n",
              "  "
            ]
          },
          "metadata": {}
        },
        {
          "output_type": "display_data",
          "data": {
            "text/plain": [
              "<IPython.core.display.Javascript object>"
            ],
            "application/javascript": [
              "download(\"download_4cd650a5-a53e-46dd-92bf-6ade3622229c\", \"frailty_cleaned.csv\", 231)"
            ]
          },
          "metadata": {}
        }
      ]
    }
  ]
}